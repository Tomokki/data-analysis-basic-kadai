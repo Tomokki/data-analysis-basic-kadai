{
  "nbformat": 4,
  "nbformat_minor": 0,
  "metadata": {
    "colab": {
      "provenance": [],
      "authorship_tag": "ABX9TyMg9uP208aHvpi58i3VeEl9",
      "include_colab_link": true
    },
    "kernelspec": {
      "name": "python3",
      "display_name": "Python 3"
    },
    "language_info": {
      "name": "python"
    }
  },
  "cells": [
    {
      "cell_type": "markdown",
      "metadata": {
        "id": "view-in-github",
        "colab_type": "text"
      },
      "source": [
        "<a href=\"https://colab.research.google.com/github/Tomokki/data-analysis-basic-kadai/blob/main/kadai_003.ipynb\" target=\"_parent\"><img src=\"https://colab.research.google.com/assets/colab-badge.svg\" alt=\"Open In Colab\"/></a>"
      ]
    },
    {
      "cell_type": "markdown",
      "source": [
        "# Step1.\n",
        "### NumPyをインポートするコードを記述する"
      ],
      "metadata": {
        "id": "B6AV_Mhnwc_u"
      }
    },
    {
      "cell_type": "code",
      "source": [
        "# numpyの読み込み\n",
        "import numpy as np\n"
      ],
      "metadata": {
        "id": "L8Jlg539w3fm"
      },
      "execution_count": 1,
      "outputs": []
    },
    {
      "cell_type": "markdown",
      "source": [
        "# Step2.\n",
        "### AとBの行列を格納する多次元配列のコードを記述する"
      ],
      "metadata": {
        "id": "9Mp3vZwMwgzn"
      }
    },
    {
      "cell_type": "code",
      "source": [
        "A =np.array([[0,1],[2,3],[4,5]])\n",
        "A\n"
      ],
      "metadata": {
        "colab": {
          "base_uri": "https://localhost:8080/"
        },
        "id": "uM22oQJA79il",
        "outputId": "45a83181-fc02-4582-d7b3-fd14df62cf89"
      },
      "execution_count": 9,
      "outputs": [
        {
          "output_type": "execute_result",
          "data": {
            "text/plain": [
              "array([[0, 1],\n",
              "       [2, 3],\n",
              "       [4, 5]])"
            ]
          },
          "metadata": {},
          "execution_count": 9
        }
      ]
    },
    {
      "cell_type": "code",
      "source": [
        "B =np.array([[0,1,2,3],[4,5,6,7]])\n",
        "B"
      ],
      "metadata": {
        "colab": {
          "base_uri": "https://localhost:8080/"
        },
        "id": "vi2PRK2c9Zla",
        "outputId": "842934e1-681e-49eb-f20e-33b40ee92063"
      },
      "execution_count": 5,
      "outputs": [
        {
          "output_type": "execute_result",
          "data": {
            "text/plain": [
              "array([[0, 1, 2, 3],\n",
              "       [4, 5, 6, 7]])"
            ]
          },
          "metadata": {},
          "execution_count": 5
        }
      ]
    },
    {
      "cell_type": "markdown",
      "source": [
        "# Step3.\n",
        "### 行列の積の計算をするコードを記述する\n",
        "# Step4.\n",
        "### Step3.の計算結果を表示するコードを記述する"
      ],
      "metadata": {
        "id": "0qCEIcslwkdo"
      }
    },
    {
      "cell_type": "code",
      "source": [
        "A =np.array([[0,1],[2,3],[4,5]])\n",
        "B =np.array([[0,1,2,3],[4,5,6,7]])\n",
        "\n",
        "np.dot(A, B)\n"
      ],
      "metadata": {
        "colab": {
          "base_uri": "https://localhost:8080/"
        },
        "id": "tT7xknIv-CmH",
        "outputId": "a17cdbaf-6c00-49ca-c6f1-ac6b51d6a20e"
      },
      "execution_count": 10,
      "outputs": [
        {
          "output_type": "execute_result",
          "data": {
            "text/plain": [
              "array([[ 4,  5,  6,  7],\n",
              "       [12, 17, 22, 27],\n",
              "       [20, 29, 38, 47]])"
            ]
          },
          "metadata": {},
          "execution_count": 10
        }
      ]
    },
    {
      "cell_type": "markdown",
      "source": [
        "# Step5.\n",
        "### 行列の要素の最大値を求めるコードを記述する"
      ],
      "metadata": {
        "id": "xbZL1McqwrcE"
      }
    },
    {
      "cell_type": "code",
      "execution_count": 11,
      "metadata": {
        "id": "ZmGnVXzrwGd6",
        "colab": {
          "base_uri": "https://localhost:8080/"
        },
        "outputId": "c2858894-97cc-4d82-c4b1-fa84ea3de4b0"
      },
      "outputs": [
        {
          "output_type": "execute_result",
          "data": {
            "text/plain": [
              "47"
            ]
          },
          "metadata": {},
          "execution_count": 11
        }
      ],
      "source": [
        "np.dot(A, B).max()"
      ]
    }
  ]
}